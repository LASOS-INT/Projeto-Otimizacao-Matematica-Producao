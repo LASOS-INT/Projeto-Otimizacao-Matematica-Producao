{
 "cells": [
  {
   "cell_type": "markdown",
   "id": "d1ba520f",
   "metadata": {},
   "source": [
    "<img src =\"Problema-Mix-Producao.jpg\">"
   ]
  },
  {
   "cell_type": "code",
   "execution_count": 25,
   "id": "ea9d68c5",
   "metadata": {},
   "outputs": [],
   "source": [
    "from pyomo.environ import *\n"
   ]
  },
  {
   "cell_type": "code",
   "execution_count": 26,
   "id": "98e950ea",
   "metadata": {},
   "outputs": [],
   "source": [
    "EXEC_PATH ='C:\\\\Users\\\\Sandro\\\\anaconda3\\\\pkgs\\\\glpk-5.0-h8ffe710_0\\\\Library\\\\bin\\\\glpsol.exe'"
   ]
  },
  {
   "cell_type": "code",
   "execution_count": 27,
   "id": "cf70ec39",
   "metadata": {
    "scrolled": true
   },
   "outputs": [],
   "source": [
    "# Declaração do Modelo:\n",
    "modelo = ConcreteModel()"
   ]
  },
  {
   "cell_type": "code",
   "execution_count": 28,
   "id": "6699bb79",
   "metadata": {},
   "outputs": [],
   "source": [
    "# Variáveis de Decisão:\n",
    "modelo.x1 = Var(within=NonNegativeReals)\n",
    "modelo.x2 = Var(within=NonNegativeReals)"
   ]
  },
  {
   "cell_type": "code",
   "execution_count": 29,
   "id": "06097801",
   "metadata": {},
   "outputs": [],
   "source": [
    "# Função Objetivo:\n",
    "modelo.z = Objective(expr=12*modelo.x1 + 60*modelo.x2, sense=maximize)"
   ]
  },
  {
   "cell_type": "code",
   "execution_count": 30,
   "id": "26681e95",
   "metadata": {},
   "outputs": [],
   "source": [
    "# Restriçoes:\n",
    "modelo.restr_usinagem = Constraint(expr=0.25*modelo.x1 + 0.5*modelo.x2 <=36)\n",
    "modelo.restr_pintura = Constraint(expr=0.1*modelo.x1 + 0.75*modelo.x2 <=22)\n",
    "modelo.restr_montagem = Constraint(expr=0.1*modelo.x1 + 0.4*modelo.x2 <=15)"
   ]
  },
  {
   "cell_type": "code",
   "execution_count": 31,
   "id": "fc7818d4",
   "metadata": {},
   "outputs": [
    {
     "name": "stdout",
     "output_type": "stream",
     "text": [
      "2 Var Declarations\n",
      "    x1 : Size=1, Index=None\n",
      "        Key  : Lower : Value : Upper : Fixed : Stale : Domain\n",
      "        None :     0 :  None :  None : False :  True : NonNegativeReals\n",
      "    x2 : Size=1, Index=None\n",
      "        Key  : Lower : Value : Upper : Fixed : Stale : Domain\n",
      "        None :     0 :  None :  None : False :  True : NonNegativeReals\n",
      "\n",
      "1 Objective Declarations\n",
      "    z : Size=1, Index=None, Active=True\n",
      "        Key  : Active : Sense    : Expression\n",
      "        None :   True : maximize : 12*x1 + 60*x2\n",
      "\n",
      "3 Constraint Declarations\n",
      "    restr_montagem : Size=1, Index=None, Active=True\n",
      "        Key  : Lower : Body            : Upper : Active\n",
      "        None :  -Inf : 0.1*x1 + 0.4*x2 :  15.0 :   True\n",
      "    restr_pintura : Size=1, Index=None, Active=True\n",
      "        Key  : Lower : Body             : Upper : Active\n",
      "        None :  -Inf : 0.1*x1 + 0.75*x2 :  22.0 :   True\n",
      "    restr_usinagem : Size=1, Index=None, Active=True\n",
      "        Key  : Lower : Body             : Upper : Active\n",
      "        None :  -Inf : 0.25*x1 + 0.5*x2 :  36.0 :   True\n",
      "\n",
      "6 Declarations: x1 x2 z restr_usinagem restr_pintura restr_montagem\n"
     ]
    }
   ],
   "source": [
    "modelo.pprint()"
   ]
  },
  {
   "cell_type": "code",
   "execution_count": 32,
   "id": "b82c2ff8",
   "metadata": {},
   "outputs": [],
   "source": [
    "resultado = SolverFactory('glpk', executable = EXEC_PATH).solve(modelo)"
   ]
  },
  {
   "cell_type": "code",
   "execution_count": 33,
   "id": "9ead1a0a",
   "metadata": {},
   "outputs": [
    {
     "data": {
      "text/plain": [
       "<bound method SolverResults.write of {'Problem': [{'Name': 'unknown', 'Lower bound': 2040.0, 'Upper bound': 2040.0, 'Number of objectives': 1, 'Number of constraints': 3, 'Number of variables': 2, 'Number of nonzeros': 6, 'Sense': 'maximize'}], 'Solver': [{'Status': 'ok', 'Termination condition': 'optimal', 'Statistics': {'Branch and bound': {'Number of bounded subproblems': 0, 'Number of created subproblems': 0}}, 'Error rc': 0, 'Time': 0.0784461498260498}], 'Solution': [OrderedDict([('number of solutions', 0), ('number of solutions displayed', 0)])]}>"
      ]
     },
     "execution_count": 33,
     "metadata": {},
     "output_type": "execute_result"
    }
   ],
   "source": [
    "resultado.write"
   ]
  },
  {
   "cell_type": "code",
   "execution_count": 34,
   "id": "c12bd270",
   "metadata": {},
   "outputs": [
    {
     "data": {
      "text/plain": [
       "70.0"
      ]
     },
     "execution_count": 34,
     "metadata": {},
     "output_type": "execute_result"
    }
   ],
   "source": [
    "modelo.x1()"
   ]
  },
  {
   "cell_type": "code",
   "execution_count": 35,
   "id": "55d90147",
   "metadata": {},
   "outputs": [
    {
     "data": {
      "text/plain": [
       "20.0"
      ]
     },
     "execution_count": 35,
     "metadata": {},
     "output_type": "execute_result"
    }
   ],
   "source": [
    "modelo.x2()"
   ]
  },
  {
   "cell_type": "code",
   "execution_count": 36,
   "id": "b23e653f",
   "metadata": {},
   "outputs": [
    {
     "data": {
      "text/plain": [
       "2040.0"
      ]
     },
     "execution_count": 36,
     "metadata": {},
     "output_type": "execute_result"
    }
   ],
   "source": [
    "modelo.z()"
   ]
  },
  {
   "cell_type": "code",
   "execution_count": null,
   "id": "49642c86",
   "metadata": {},
   "outputs": [],
   "source": []
  }
 ],
 "metadata": {
  "kernelspec": {
   "display_name": "Python 3 (ipykernel)",
   "language": "python",
   "name": "python3"
  },
  "language_info": {
   "codemirror_mode": {
    "name": "ipython",
    "version": 3
   },
   "file_extension": ".py",
   "mimetype": "text/x-python",
   "name": "python",
   "nbconvert_exporter": "python",
   "pygments_lexer": "ipython3",
   "version": "3.11.4"
  }
 },
 "nbformat": 4,
 "nbformat_minor": 5
}
