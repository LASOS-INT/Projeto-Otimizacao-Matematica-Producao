{
 "cells": [
  {
   "cell_type": "code",
   "execution_count": null,
   "metadata": {},
   "outputs": [],
   "source": [
    "import pyomo.environ as pyEnv"
   ]
  },
  {
   "cell_type": "code",
   "execution_count": null,
   "metadata": {},
   "outputs": [],
   "source": [
    "# DADOS\n",
    "lucros = [92,57,49,68,60,43,67,54,57,72]\n",
    "pesos = [23,31,29,44,53,38,63,85,89,82]\n",
    "capacidade = 165\n",
    "m = len(lucros)"
   ]
  },
  {
   "cell_type": "code",
   "execution_count": null,
   "metadata": {},
   "outputs": [],
   "source": [
    "# DELCARAÇÃO DO MODELO\n",
    "modelo = pyEnv.ConcreteModel()\n",
    "modelo.I = range(m)\n",
    "\n",
    "modelo.x = pyEnv.Var(modelo.I, within = pyEnv.Binary)\n",
    "modelo.objetivo = pyEnv.Objective (expr = sum(lucros[i]*modelo.x[i] for i in modelo.I), sense = pyEnv.maximize)\n",
    "\n",
    "modelo.rest = pyEnv.Constraint(expr = sum (pesos[i]*modelo.x[i] for i in modelo.I) <= capacidade)\n"
   ]
  },
  {
   "cell_type": "code",
   "execution_count": null,
   "metadata": {},
   "outputs": [],
   "source": [
    "# RESOLUÇÃO DO MODELO\n",
    "\n",
    "resultado = pyEnv.SolverFactory('glpk').solve(modelo)\n",
    "modelo.pprint()\n",
    "modelo.objetivo()\n",
    "print (resultado)"
   ]
  },
  {
   "cell_type": "code",
   "execution_count": null,
   "metadata": {},
   "outputs": [],
   "source": [
    "# PRINT DAS VARIÁVEIS DE DECISÃO\n",
    "\n",
    "lista = list(modelo.x.keys())\n",
    "for i in lista:\n",
    "    print (i, '-', modelo.x[i]())\n",
    "\n",
    "print ('Valor Objetivo =', modelo.objetivo())    "
   ]
  }
 ],
 "metadata": {
  "kernelspec": {
   "display_name": "Python 3",
   "language": "python",
   "name": "python3"
  },
  "language_info": {
   "codemirror_mode": {
    "name": "ipython",
    "version": 3
   },
   "file_extension": ".py",
   "mimetype": "text/x-python",
   "name": "python",
   "nbconvert_exporter": "python",
   "pygments_lexer": "ipython3",
   "version": "3.11.4"
  },
  "orig_nbformat": 4
 },
 "nbformat": 4,
 "nbformat_minor": 2
}
